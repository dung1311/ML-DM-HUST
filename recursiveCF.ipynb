{
 "cells": [
  {
   "cell_type": "code",
   "execution_count": 1,
   "id": "ec928abf",
   "metadata": {},
   "outputs": [],
   "source": [
    "import pandas as pd\n",
    "import numpy as np\n",
    "from collections import defaultdict"
   ]
  },
  {
   "cell_type": "code",
   "execution_count": 2,
   "id": "42b67344",
   "metadata": {},
   "outputs": [
    {
     "name": "stdout",
     "output_type": "stream",
     "text": [
      "Number of users: 943\n",
      "Number of ratings in base set: 90570\n",
      "Number of ratings in test set: 9430\n",
      "Number of items: 1682\n"
     ]
    }
   ],
   "source": [
    "u_cols = [\"user_id\", \"age\", \"sex\", \"occupation\", \"zip_code\"]\n",
    "users = pd.read_csv(\"./data/ml-100k/u.user\", sep=\"|\", header=None, names=u_cols, encoding=\"latin-1\")\n",
    "print(\"Number of users:\", users.shape[0])\n",
    "\n",
    "#rates\n",
    "r_cols = [\"user_id\", \"item_id\", \"rating\", \"unix_timestamp\"]\n",
    "ratings_base = pd.read_csv(\"./data/ml-100k/ua.base\", sep=\"\\t\", header=None, names=r_cols, encoding=\"latin-1\")\n",
    "ratings_test = pd.read_csv(\"./data/ml-100k/ua.test\", sep=\"\\t\", header=None, names=r_cols, encoding=\"latin-1\")\n",
    "print(\"Number of ratings in base set:\", ratings_base.shape[0])\n",
    "print(\"Number of ratings in test set:\", ratings_test.shape[0])\n",
    "\n",
    "#items\n",
    "i_cols = ['movie id', 'movie title' ,'release date','video release date', 'IMDb URL', 'unknown', 'Action', 'Adventure',\n",
    "'Animation', 'Children\\'s', 'Comedy', 'Crime', 'Documentary', 'Drama', 'Fantasy',\n",
    "'Film-Noir', 'Horror', 'Musical', 'Mystery', 'Romance', 'Sci-Fi', 'Thriller', 'War', 'Western']\n",
    "\n",
    "items = pd.read_csv('./data/ml-100k/u.item', sep='|', names=i_cols, encoding='latin-1')\n",
    "print(\"Number of items:\", items.shape[0])"
   ]
  },
  {
   "cell_type": "code",
   "execution_count": 3,
   "id": "6bc26ddc",
   "metadata": {},
   "outputs": [],
   "source": [
    "user_mean_ratings = ratings_base.groupby('user_id')['rating'].mean()"
   ]
  },
  {
   "cell_type": "code",
   "execution_count": 4,
   "id": "581bd7db",
   "metadata": {},
   "outputs": [],
   "source": [
    "def pearson_correlation(user1, user2):\n",
    "    \"\"\"\n",
    "    Calculate Pearson correlation between ratings of two users\n",
    "    \n",
    "    Parameters:\n",
    "    user1, user2: user IDs to compare\n",
    "    \n",
    "    Returns:\n",
    "    float: Pearson correlation coefficient between the two users\n",
    "    \"\"\"\n",
    "    # Get items rated by each user\n",
    "    items_user1 = ratings_base[ratings_base[\"user_id\"] == user1][[\"item_id\", \"rating\"]]\n",
    "    items_user2 = ratings_base[ratings_base[\"user_id\"] == user2][[\"item_id\", \"rating\"]]\n",
    "    \n",
    "    # Find common items\n",
    "    common_items = pd.merge(items_user1, items_user2, on=\"item_id\", suffixes=('_user1', '_user2'))\n",
    "\n",
    "    # If less than 3 common items, return 0 (not enough data for reliable correlation)\n",
    "    if len(common_items) < 3:\n",
    "        return 0\n",
    "    \n",
    "    # Get mean ratings for each user\n",
    "    mean_rating_user1 = items_user1[\"rating\"].mean()\n",
    "    mean_rating_user2 = items_user2[\"rating\"].mean()\n",
    "    \n",
    "    # Calculate numerator and denominators for Pearson formula\n",
    "    numerator = sum((common_items[\"rating_user1\"] - mean_rating_user1) * \n",
    "                    (common_items[\"rating_user2\"] - mean_rating_user2))\n",
    "    \n",
    "    denominator_user1 = sum((common_items[\"rating_user1\"] - mean_rating_user1)**2)**0.5\n",
    "    denominator_user2 = sum((common_items[\"rating_user2\"] - mean_rating_user2)**2)**0.5\n",
    "    \n",
    "    # Check for division by zero\n",
    "    if denominator_user1 == 0 or denominator_user2 == 0:\n",
    "        return 0\n",
    "    \n",
    "    # Calculate and return correlation\n",
    "    correlation = numerator / (denominator_user1 * denominator_user2)\n",
    "    \n",
    "    # Apply significance weighting (optional but recommended)\n",
    "    # This gives more weight to correlations based on more common items\n",
    "    if len(common_items) < 50:\n",
    "        correlation = correlation * (len(common_items) / 50)\n",
    "    \n",
    "    return correlation"
   ]
  },
  {
   "cell_type": "code",
   "execution_count": 5,
   "id": "9dc50762",
   "metadata": {},
   "outputs": [],
   "source": [
    "class LazySimilarityMatrix:\n",
    "    def __init__(self):\n",
    "        self.similarity_cache = {}\n",
    "        \n",
    "    def get_similarity(self, user1, user2):\n",
    "        \"\"\"Get similarity between two users with caching\"\"\"\n",
    "        if user1 == user2:\n",
    "            return 1.0\n",
    "        \n",
    "        # Use a consistent order for the key to avoid duplicates\n",
    "        cache_key = tuple(sorted([user1, user2]))\n",
    "        \n",
    "        if cache_key not in self.similarity_cache:\n",
    "            sim = pearson_correlation(user1, user2)\n",
    "            self.similarity_cache[cache_key] = sim\n",
    "            \n",
    "        return self.similarity_cache[cache_key]\n",
    "    \n",
    "    def get_top_k_similar_users(self, user_id, k=20, exclude_negative=True):\n",
    "        \"\"\"Find k users most similar to the given user\"\"\"\n",
    "        user_ids = ratings_base[\"user_id\"].unique()\n",
    "        similarities = []\n",
    "        \n",
    "        for other_user_id in user_ids:\n",
    "            if other_user_id != user_id:\n",
    "                sim = self.get_similarity(user_id, other_user_id)\n",
    "                # Option to exclude users with negative correlation\n",
    "                if not exclude_negative or sim > 0:\n",
    "                    similarities.append((other_user_id, sim))\n",
    "        \n",
    "        # Sort by similarity (descending) and take top k\n",
    "        similarities.sort(key=lambda x: x[1], reverse=True)\n",
    "        return similarities[:k]"
   ]
  },
  {
   "cell_type": "code",
   "execution_count": 6,
   "id": "42120f7c",
   "metadata": {},
   "outputs": [],
   "source": [
    "similarity_matrix = LazySimilarityMatrix()"
   ]
  },
  {
   "cell_type": "code",
   "execution_count": 7,
   "id": "f9f0c386",
   "metadata": {},
   "outputs": [],
   "source": [
    "user_mean_ratings = ratings_base.groupby('user_id')['rating'].mean()"
   ]
  },
  {
   "cell_type": "markdown",
   "id": "ad6b8d7e",
   "metadata": {},
   "source": [
    "Hàm dự đoán có thêm trường depth để thực hiện đệ quy"
   ]
  },
  {
   "cell_type": "code",
   "execution_count": 8,
   "id": "f7e5de8e",
   "metadata": {},
   "outputs": [],
   "source": [
    "def predict_rating(user_id, item_id, k=20, depth=2, visited=None, rating_range=(1, 5)):\n",
    "    \"\"\"\n",
    "    Predict rating for a given user-item pair using user-based collaborative filtering\n",
    "    \n",
    "    Parameters:\n",
    "    user_id: ID of the user\n",
    "    item_id: ID of the item\n",
    "    k: Number of similar users to consider\n",
    "    rating_range: Valid range for ratings (min, max)\n",
    "    \n",
    "    Returns:\n",
    "    float: Predicted rating\n",
    "    \"\"\"\n",
    "    # Get mean rating for the current user\n",
    "    if user_id in user_mean_ratings:\n",
    "        mean_rating_user = user_mean_ratings[user_id]\n",
    "    else:\n",
    "        mean_rating_user = ratings_base['rating'].mean()  # Global mean as fallback\n",
    "    \n",
    "    # Check if the user has already rated this item\n",
    "    is_rated = ratings_base[(ratings_base['user_id'] == user_id) & (ratings_base['item_id'] == item_id)]\n",
    "    if not is_rated.empty:\n",
    "        return is_rated['rating'].iloc[0]\n",
    "    \n",
    "    if visited is None:\n",
    "        visited = set()\n",
    "    \n",
    "    if (user_id, item_id) in visited or depth == 0:\n",
    "        return mean_rating_user\n",
    "    \n",
    "    visited.add((user_id, item_id))\n",
    "    \n",
    "    # Get k most similar users\n",
    "    similar_users = similarity_matrix.get_top_k_similar_users(user_id, k)\n",
    "    \n",
    "    numerator = 0\n",
    "    denominator = 0\n",
    "    \n",
    "    for neightbor_id, sim in similar_users:\n",
    "        neightbor_rating = ratings_base[(ratings_base['user_id'] == neightbor_id) & (ratings_base['item_id'] == item_id)]\n",
    "        if neightbor_rating.empty:\n",
    "            pred_rating = predict_rating(neightbor_id, item_id, k, depth-1, visited)\n",
    "            neighbor_mean = user_mean_ratings[neightbor_id]\n",
    "            neighbor_diff = pred_rating - neighbor_mean\n",
    "        else:\n",
    "            neighbor_diff = neightbor_rating['rating'].iloc[0] - user_mean_ratings[neightbor_id]\n",
    "        \n",
    "        numerator += sim * neighbor_diff\n",
    "        denominator += abs(sim)\n",
    "    \n",
    "    if denominator == 0:\n",
    "        return mean_rating_user\n",
    "\n",
    "    predicted = mean_rating_user + (numerator / denominator)\n",
    "    predicted = max(min(predicted, rating_range[1]), rating_range[0])\n",
    "    \n",
    "    return predicted\n",
    "    "
   ]
  },
  {
   "cell_type": "code",
   "execution_count": 9,
   "id": "635ffc3a",
   "metadata": {},
   "outputs": [],
   "source": [
    "from tqdm import tqdm\n",
    "def evaluate_model(val_set, k=20, metric='rmse'):\n",
    "    \"\"\"\n",
    "    Evaluate the recommender model on the test set\n",
    "    \n",
    "    Parameters:\n",
    "    k: Number of similar users to consider\n",
    "    metric: Evaluation metric ('rmse' or 'mae')\n",
    "    \n",
    "    Returns:\n",
    "    float: Error metric value (lower is better)\n",
    "    \"\"\"\n",
    "    errors = []\n",
    "    total = len(val_set)\n",
    "    print(f\"Evaluating model with k={k} on {total} test samples...\")\n",
    "    \n",
    "    # Optional: show progress for long evaluations\n",
    "    progress_step = max(1, total // 10)\n",
    "    \n",
    "    with tqdm(total=total, desc=\"Evaluating\", ncols=100, bar_format=\"{l_bar}{bar}| {n_fmt}/{total_fmt} [{elapsed}<{remaining}, {rate_fmt}{postfix}]\") as pbar:\n",
    "        for _, row in ratings_test.iterrows():\n",
    "            user_id, item_id, actual_rating = row['user_id'], row['item_id'], row['rating']\n",
    "            predicted_rating = predict_rating(user_id, item_id, k)\n",
    "\n",
    "            if metric == 'rmse':\n",
    "                errors.append((predicted_rating - actual_rating) ** 2)\n",
    "            else:  # mae\n",
    "                errors.append(abs(predicted_rating - actual_rating))\n",
    "            \n",
    "            pbar.update(1)\n",
    "            \n",
    "    if metric == 'rmse':\n",
    "        return np.sqrt(np.mean(errors))\n",
    "    else:  # mae\n",
    "        return np.mean(errors)"
   ]
  },
  {
   "cell_type": "code",
   "execution_count": 18,
   "id": "202519df",
   "metadata": {},
   "outputs": [],
   "source": [
    "def find_optimal_k(k_values=None, num_folds=5, depth=1, metric='rmse', n_jobs=-1, random_state=42):\n",
    "    \"\"\"\n",
    "    Find the optimal k value for the KNN algorithm using k-fold cross-validation.\n",
    "    Returns tuple (best_k, best_error).\n",
    "    \"\"\"\n",
    "    if k_values is None:\n",
    "        k_values = [5, 10, 20, 30, 40, 50]\n",
    "\n",
    "    # Prepare cross-validation splits on the base ratings\n",
    "    from sklearn.model_selection import KFold\n",
    "    kf = KFold(n_splits=num_folds, shuffle=True, random_state=random_state)\n",
    "    idx = np.arange(len(ratings_base))\n",
    "\n",
    "    results = []\n",
    "    for k in tqdm(k_values, desc=\"Optimizing k via CV\"):\n",
    "        fold_errs = []\n",
    "        for train_idx, val_idx in kf.split(idx):\n",
    "            train_df = ratings_base.iloc[train_idx].reset_index(drop=True)\n",
    "            val_df = ratings_base.iloc[val_idx].reset_index(drop=True)\n",
    "            err = evaluate_model(val_df, k=k, metric=metric)\n",
    "            fold_errs.append(err)\n",
    "        avg_err = np.mean(fold_errs)\n",
    "        results.append((k, avg_err))\n",
    "        print(f\"k={k}, avg {metric}={avg_err:.4f}\")\n",
    "\n",
    "    # Plot results\n",
    "    import matplotlib.pyplot as plt\n",
    "    ks = [r[0] for r in results]\n",
    "    errs = [r[1] for r in results]\n",
    "    plt.figure(figsize=(10,6))\n",
    "    plt.plot(ks, errs, marker='o')\n",
    "    plt.xlabel('k (Number of neighbors)')\n",
    "    plt.ylabel(metric.upper())\n",
    "    plt.title(f'{metric.upper()} vs k ({num_folds}-fold CV)')\n",
    "    plt.grid(True)\n",
    "    plt.savefig('RecursiveCF-KNN_optimization.png')\n",
    "    plt.show()\n",
    "\n",
    "    # Select best k\n",
    "    best_k, best_err = min(results, key=lambda x: x[1])\n",
    "    return best_k, best_err"
   ]
  },
  {
   "cell_type": "code",
   "execution_count": 11,
   "id": "2d8243c5",
   "metadata": {},
   "outputs": [],
   "source": [
    "def recommend_items(user_id, n=10, exclude_rated=True):\n",
    "    \"\"\"\n",
    "    Recommend top N items for a given user\n",
    "    \n",
    "    Parameters:\n",
    "    user_id: ID of the user\n",
    "    n: Number of recommendations to make\n",
    "    exclude_rated: Whether to exclude items the user has already rated\n",
    "    \n",
    "    Returns:\n",
    "    list: Tuples of (item_id, predicted_rating)\n",
    "    \"\"\"\n",
    "    # Get all items\n",
    "    all_items = items['movie id'].unique()\n",
    "    \n",
    "    # Get items already rated by the user if we want to exclude them\n",
    "    if exclude_rated:\n",
    "        rated_items = ratings_base[ratings_base['user_id'] == user_id]['item_id'].unique()\n",
    "        candidate_items = [item for item in all_items if item not in rated_items]\n",
    "    else:\n",
    "        candidate_items = all_items\n",
    "    \n",
    "    # Predict ratings for candidate items\n",
    "    predictions = []\n",
    "    for item_id in candidate_items:\n",
    "        pred_rating = predict_rating(user_id, item_id)\n",
    "        predictions.append((item_id, pred_rating))\n",
    "    \n",
    "    # Sort by predicted rating (descending) and take top n\n",
    "    predictions.sort(key=lambda x: x[1], reverse=True)\n",
    "    return predictions[:n]"
   ]
  },
  {
   "cell_type": "code",
   "execution_count": 12,
   "id": "5c98ab68",
   "metadata": {},
   "outputs": [
    {
     "name": "stdout",
     "output_type": "stream",
     "text": [
      "Predicted rating for user 2, item 281: 3.36\n"
     ]
    }
   ],
   "source": [
    "pred = predict_rating(2, 281)\n",
    "print(f\"Predicted rating for user 2, item 281: {pred:.2f}\")"
   ]
  },
  {
   "cell_type": "code",
   "execution_count": 14,
   "id": "953edf9e",
   "metadata": {},
   "outputs": [
    {
     "name": "stdout",
     "output_type": "stream",
     "text": [
      "Evaluating model with k=5 on 9430 test samples...\n"
     ]
    },
    {
     "name": "stderr",
     "output_type": "stream",
     "text": [
      "Evaluating: 100%|███████████████████████████████████████████████| 9430/9430 [38:43<00:00,  4.06it/s]"
     ]
    },
    {
     "name": "stdout",
     "output_type": "stream",
     "text": [
      "RMSE with k=5: 0.9939\n"
     ]
    },
    {
     "name": "stderr",
     "output_type": "stream",
     "text": [
      "\n"
     ]
    }
   ],
   "source": [
    "error = evaluate_model(ratings_test, k=5, metric='rmse')\n",
    "print(f\"RMSE with k=5: {error:.4f}\")"
   ]
  },
  {
   "cell_type": "code",
   "execution_count": 19,
   "id": "8b1ea07a",
   "metadata": {},
   "outputs": [
    {
     "name": "stderr",
     "output_type": "stream",
     "text": [
      "Optimizing k via CV:   0%|          | 0/5 [00:00<?, ?it/s]"
     ]
    },
    {
     "name": "stdout",
     "output_type": "stream",
     "text": [
      "Evaluating model with k=10 on 18114 test samples...\n"
     ]
    },
    {
     "name": "stderr",
     "output_type": "stream",
     "text": [
      "Evaluating:  52%|███████████████████████▉                      | 9430/18114 [18:15<16:48,  8.61it/s]\n"
     ]
    },
    {
     "name": "stdout",
     "output_type": "stream",
     "text": [
      "Evaluating model with k=10 on 18114 test samples...\n"
     ]
    },
    {
     "name": "stderr",
     "output_type": "stream",
     "text": [
      "Evaluating:  52%|███████████████████████▉                      | 9430/18114 [16:46<15:27,  9.36it/s]\n"
     ]
    },
    {
     "name": "stdout",
     "output_type": "stream",
     "text": [
      "Evaluating model with k=10 on 18114 test samples...\n"
     ]
    },
    {
     "name": "stderr",
     "output_type": "stream",
     "text": [
      "Evaluating:  52%|███████████████████████▉                      | 9430/18114 [10:06<09:18, 15.55it/s]\n"
     ]
    },
    {
     "name": "stdout",
     "output_type": "stream",
     "text": [
      "Evaluating model with k=10 on 18114 test samples...\n"
     ]
    },
    {
     "name": "stderr",
     "output_type": "stream",
     "text": [
      "Evaluating:  52%|███████████████████████▉                      | 9430/18114 [09:47<09:00, 16.05it/s]\n"
     ]
    },
    {
     "name": "stdout",
     "output_type": "stream",
     "text": [
      "Evaluating model with k=10 on 18114 test samples...\n"
     ]
    },
    {
     "name": "stderr",
     "output_type": "stream",
     "text": [
      "Evaluating:  52%|███████████████████████▉                      | 9430/18114 [09:39<08:53, 16.28it/s]\n",
      "Optimizing k via CV:  20%|██        | 1/5 [1:04:35<4:18:22, 3875.68s/it]"
     ]
    },
    {
     "name": "stdout",
     "output_type": "stream",
     "text": [
      "k=10, avg rmse=0.9797\n",
      "Evaluating model with k=15 on 18114 test samples...\n"
     ]
    },
    {
     "name": "stderr",
     "output_type": "stream",
     "text": [
      "Evaluating:  52%|███████████████████████▉                      | 9430/18114 [15:42<14:27, 10.01it/s]\n"
     ]
    },
    {
     "name": "stdout",
     "output_type": "stream",
     "text": [
      "Evaluating model with k=15 on 18114 test samples...\n"
     ]
    },
    {
     "name": "stderr",
     "output_type": "stream",
     "text": [
      "Evaluating:  52%|███████████████████████▉                      | 9430/18114 [13:53<12:47, 11.31it/s]\n"
     ]
    },
    {
     "name": "stdout",
     "output_type": "stream",
     "text": [
      "Evaluating model with k=15 on 18114 test samples...\n"
     ]
    },
    {
     "name": "stderr",
     "output_type": "stream",
     "text": [
      "Evaluating:  52%|███████████████████████▉                      | 9430/18114 [13:52<12:46, 11.33it/s]\n"
     ]
    },
    {
     "name": "stdout",
     "output_type": "stream",
     "text": [
      "Evaluating model with k=15 on 18114 test samples...\n"
     ]
    },
    {
     "name": "stderr",
     "output_type": "stream",
     "text": [
      "Evaluating:  52%|███████████████████████▉                      | 9430/18114 [14:00<12:54, 11.21it/s]\n"
     ]
    },
    {
     "name": "stdout",
     "output_type": "stream",
     "text": [
      "Evaluating model with k=15 on 18114 test samples...\n"
     ]
    },
    {
     "name": "stderr",
     "output_type": "stream",
     "text": [
      "Evaluating:  52%|███████████████████████▉                      | 9430/18114 [14:02<12:56, 11.19it/s]\n",
      "Optimizing k via CV:  40%|████      | 2/5 [2:16:07<3:26:00, 4120.24s/it]"
     ]
    },
    {
     "name": "stdout",
     "output_type": "stream",
     "text": [
      "k=15, avg rmse=0.9756\n",
      "Evaluating model with k=20 on 18114 test samples...\n"
     ]
    },
    {
     "name": "stderr",
     "output_type": "stream",
     "text": [
      "Evaluating:  52%|███████████████████████▉                      | 9430/18114 [23:18<21:27,  6.74it/s]\n"
     ]
    },
    {
     "name": "stdout",
     "output_type": "stream",
     "text": [
      "Evaluating model with k=20 on 18114 test samples...\n"
     ]
    },
    {
     "name": "stderr",
     "output_type": "stream",
     "text": [
      "Evaluating:  52%|███████████████████████▉                      | 9430/18114 [23:32<21:41,  6.67it/s]\n"
     ]
    },
    {
     "name": "stdout",
     "output_type": "stream",
     "text": [
      "Evaluating model with k=20 on 18114 test samples...\n"
     ]
    },
    {
     "name": "stderr",
     "output_type": "stream",
     "text": [
      "Evaluating:  52%|███████████████████████▉                      | 9430/18114 [23:49<21:56,  6.60it/s]\n"
     ]
    },
    {
     "name": "stdout",
     "output_type": "stream",
     "text": [
      "Evaluating model with k=20 on 18114 test samples...\n"
     ]
    },
    {
     "name": "stderr",
     "output_type": "stream",
     "text": [
      "Evaluating:  52%|███████████████████████▉                      | 9430/18114 [24:11<22:16,  6.50it/s]\n"
     ]
    },
    {
     "name": "stdout",
     "output_type": "stream",
     "text": [
      "Evaluating model with k=20 on 18114 test samples...\n"
     ]
    },
    {
     "name": "stderr",
     "output_type": "stream",
     "text": [
      "Evaluating:  52%|███████████████████████▉                      | 9430/18114 [24:13<22:18,  6.49it/s]\n",
      "Optimizing k via CV:  60%|██████    | 3/5 [4:15:12<3:03:23, 5501.64s/it]"
     ]
    },
    {
     "name": "stdout",
     "output_type": "stream",
     "text": [
      "k=20, avg rmse=0.9748\n",
      "Evaluating model with k=25 on 18114 test samples...\n"
     ]
    },
    {
     "name": "stderr",
     "output_type": "stream",
     "text": [
      "Evaluating:  52%|███████████████████████▉                      | 9430/18114 [36:20<33:27,  4.33it/s]\n"
     ]
    },
    {
     "name": "stdout",
     "output_type": "stream",
     "text": [
      "Evaluating model with k=25 on 18114 test samples...\n"
     ]
    },
    {
     "name": "stderr",
     "output_type": "stream",
     "text": [
      "Evaluating:  52%|███████████████████████▉                      | 9430/18114 [36:21<33:29,  4.32it/s]\n"
     ]
    },
    {
     "name": "stdout",
     "output_type": "stream",
     "text": [
      "Evaluating model with k=25 on 18114 test samples...\n"
     ]
    },
    {
     "name": "stderr",
     "output_type": "stream",
     "text": [
      "Evaluating:  52%|███████████████████████▉                      | 9430/18114 [37:19<34:22,  4.21it/s]\n"
     ]
    },
    {
     "name": "stdout",
     "output_type": "stream",
     "text": [
      "Evaluating model with k=25 on 18114 test samples...\n"
     ]
    },
    {
     "name": "stderr",
     "output_type": "stream",
     "text": [
      "Evaluating:  52%|███████████████████████▉                      | 9430/18114 [36:41<33:47,  4.28it/s]\n"
     ]
    },
    {
     "name": "stdout",
     "output_type": "stream",
     "text": [
      "Evaluating model with k=25 on 18114 test samples...\n"
     ]
    },
    {
     "name": "stderr",
     "output_type": "stream",
     "text": [
      "Evaluating:  52%|███████████████████████▉                      | 9430/18114 [36:42<33:48,  4.28it/s]\n",
      "Optimizing k via CV:  80%|████████  | 4/5 [7:18:37<2:07:54, 7674.34s/it]"
     ]
    },
    {
     "name": "stdout",
     "output_type": "stream",
     "text": [
      "k=25, avg rmse=0.9751\n",
      "Evaluating model with k=30 on 18114 test samples...\n"
     ]
    },
    {
     "name": "stderr",
     "output_type": "stream",
     "text": [
      "Evaluating:  52%|███████████████████████▉                      | 9430/18114 [50:40<46:40,  3.10it/s]\n"
     ]
    },
    {
     "name": "stdout",
     "output_type": "stream",
     "text": [
      "Evaluating model with k=30 on 18114 test samples...\n"
     ]
    },
    {
     "name": "stderr",
     "output_type": "stream",
     "text": [
      "Evaluating:  52%|███████████████████████▉                      | 9430/18114 [50:16<46:17,  3.13it/s]\n"
     ]
    },
    {
     "name": "stdout",
     "output_type": "stream",
     "text": [
      "Evaluating model with k=30 on 18114 test samples...\n"
     ]
    },
    {
     "name": "stderr",
     "output_type": "stream",
     "text": [
      "Evaluating:  52%|███████████████████████▉                      | 9430/18114 [49:49<45:52,  3.15it/s]\n"
     ]
    },
    {
     "name": "stdout",
     "output_type": "stream",
     "text": [
      "Evaluating model with k=30 on 18114 test samples...\n"
     ]
    },
    {
     "name": "stderr",
     "output_type": "stream",
     "text": [
      "Evaluating:  52%|███████████████████████▉                      | 9430/18114 [49:25<45:31,  3.18it/s]\n"
     ]
    },
    {
     "name": "stdout",
     "output_type": "stream",
     "text": [
      "Evaluating model with k=30 on 18114 test samples...\n"
     ]
    },
    {
     "name": "stderr",
     "output_type": "stream",
     "text": [
      "Evaluating:  52%|███████████████████████▉                      | 9430/18114 [45:30<41:54,  3.45it/s]\n",
      "Optimizing k via CV: 100%|██████████| 5/5 [11:24:20<00:00, 8212.11s/it] \n"
     ]
    },
    {
     "name": "stdout",
     "output_type": "stream",
     "text": [
      "k=30, avg rmse=0.9753\n"
     ]
    },
    {
     "data": {
      "image/png": "[encoded data removed]",
      "text/plain": [
       "<Figure size 1000x600 with 1 Axes>"
      ]
     },
     "metadata": {},
     "output_type": "display_data"
    },
    {
     "name": "stdout",
     "output_type": "stream",
     "text": [
      "Optimal k: 20 with RMSE: 0.9748\n"
     ]
    }
   ],
   "source": [
    "optimal_k, optimal_rmse = find_optimal_k(k_values=[10, 15, 20, 25, 30])\n",
    "print(f\"Optimal k: {optimal_k} with RMSE: {optimal_rmse:.4f}\")"
   ]
  },
  {
   "cell_type": "code",
   "execution_count": null,
   "id": "914e0a5e",
   "metadata": {},
   "outputs": [],
   "source": []
  }
 ],
 "metadata": {
  "kernelspec": {
   "display_name": "ML",
   "language": "python",
   "name": "python3"
  },
  "language_info": {
   "codemirror_mode": {
    "name": "ipython",
    "version": 3
   },
   "file_extension": ".py",
   "mimetype": "text/x-python",
   "name": "python",
   "nbconvert_exporter": "python",
   "pygments_lexer": "ipython3",
   "version": "3.13.2"
  }
 },
 "nbformat": 4,
 "nbformat_minor": 5
}
