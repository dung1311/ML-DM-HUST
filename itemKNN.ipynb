{
 "cells": [
  {
   "cell_type": "code",
   "execution_count": 1,
   "id": "e44ae199",
   "metadata": {},
   "outputs": [],
   "source": [
    "import pandas as pd\n",
    "import numpy as np\n",
    "from collections import defaultdict"
   ]
  },
  {
   "cell_type": "code",
   "execution_count": 2,
   "id": "42e4c2a2",
   "metadata": {},
   "outputs": [
    {
     "name": "stdout",
     "output_type": "stream",
     "text": [
      "Number of users: 943\n",
      "Number of ratings in base set: 90570\n",
      "Number of ratings in test set: 9430\n",
      "Number of items: 1682\n"
     ]
    }
   ],
   "source": [
    "u_cols = [\"user_id\", \"age\", \"sex\", \"occupation\", \"zip_code\"]\n",
    "users = pd.read_csv(\"./data/ml-100k/u.user\", sep=\"|\", header=None, names=u_cols, encoding=\"latin-1\")\n",
    "print(\"Number of users:\", users.shape[0])\n",
    "\n",
    "#rates\n",
    "r_cols = [\"user_id\", \"item_id\", \"rating\", \"unix_timestamp\"]\n",
    "ratings_base = pd.read_csv(\"./data/ml-100k/ua.base\", sep=\"\\t\", header=None, names=r_cols, encoding=\"latin-1\")\n",
    "ratings_test = pd.read_csv(\"./data/ml-100k/ua.test\", sep=\"\\t\", header=None, names=r_cols, encoding=\"latin-1\")\n",
    "print(\"Number of ratings in base set:\", ratings_base.shape[0])\n",
    "print(\"Number of ratings in test set:\", ratings_test.shape[0])\n",
    "\n",
    "#items\n",
    "i_cols = ['movie id', 'movie title' ,'release date','video release date', 'IMDb URL', 'unknown', 'Action', 'Adventure',\n",
    "'Animation', 'Children\\'s', 'Comedy', 'Crime', 'Documentary', 'Drama', 'Fantasy',\n",
    "'Film-Noir', 'Horror', 'Musical', 'Mystery', 'Romance', 'Sci-Fi', 'Thriller', 'War', 'Western']\n",
    "\n",
    "items = pd.read_csv('./data/ml-100k/u.item', sep='|', names=i_cols, encoding='latin-1')\n",
    "print(\"Number of items:\", items.shape[0])"
   ]
  },
  {
   "cell_type": "code",
   "execution_count": 3,
   "id": "5bf4f241",
   "metadata": {},
   "outputs": [],
   "source": [
    "user_mean_ratings = ratings_base.groupby('user_id')['rating'].mean()"
   ]
  },
  {
   "cell_type": "markdown",
   "id": "9997159a",
   "metadata": {},
   "source": [
    "- **Hàm tính độ tương đồng**\n",
    "  - Tính điểm trung bình của các users đã rate cho mỗi item.\n",
    "  - $U$: là tập users đã đánh giá cả $a$ và $b$.\n",
    "\n",
    "  $$\n",
    "  \\text{sim}(\\vec{a}, \\vec{b}) = \\frac{\\sum_{u \\in U} (r_{u,a} - \\bar{r}_u)(r_{u,b} - \\bar{r}_u)}{\\sqrt{\\sum_{u \\in U} (r_{u,a} - \\bar{r}_u)^2} \\sqrt{\\sum_{u \\in U} (r_{u,b} - \\bar{r}_u)^2}}\n",
    "  $$"
   ]
  },
  {
   "cell_type": "code",
   "execution_count": 7,
   "id": "f4dbcb30",
   "metadata": {},
   "outputs": [],
   "source": [
    "def pearson_correlation(item1, item2):\n",
    "    \"\"\"\n",
    "    Calculate the Pearson correlation coefficient between two items.\n",
    "    \"\"\"\n",
    "    # Get the ratings for both items\n",
    "    ratings1 = ratings_base[ratings_base['item_id'] == item1]\n",
    "    ratings2 = ratings_base[ratings_base['item_id'] == item2]\n",
    "\n",
    "    # Merge the two dataframes on user_id\n",
    "    merged_ratings = pd.merge(ratings1, ratings2, on='user_id', suffixes=('_item1', '_item2'))\n",
    "\n",
    "    # if there are less than 3 common users, return 0\n",
    "    if len(merged_ratings) < 3:\n",
    "        return 0\n",
    "    \n",
    "    # Calculate the mean ratings for both items\n",
    "    mean_item1 = merged_ratings['rating_item1'].mean()\n",
    "    mean_item2 = merged_ratings['rating_item2'].mean()\n",
    "\n",
    "    # Calculate the numerator and denominator for the Pearson correlation\n",
    "    numerator = np.sum((merged_ratings['rating_item1'] - mean_item1) * (merged_ratings['rating_item2'] - mean_item2))\n",
    "    denominator = np.sqrt(np.sum((merged_ratings['rating_item1'] - mean_item1) ** 2) * np.sum((merged_ratings['rating_item2'] - mean_item2) ** 2))\n",
    "\n",
    "    if denominator == 0:\n",
    "        return 0\n",
    "\n",
    "    correlation = numerator / denominator\n",
    "    \n",
    "    if len(merged_ratings) < 50:\n",
    "        correlation = correlation * (len(merged_ratings)/50)\n",
    "    \n",
    "    return correlation"
   ]
  },
  {
   "cell_type": "code",
   "execution_count": 8,
   "id": "f8fa7a41",
   "metadata": {},
   "outputs": [
    {
     "data": {
      "text/plain": [
       "np.float64(0.23440488208226357)"
      ]
     },
     "execution_count": 8,
     "metadata": {},
     "output_type": "execute_result"
    }
   ],
   "source": [
    "pearson_correlation(1, 2)"
   ]
  },
  {
   "cell_type": "code",
   "execution_count": 9,
   "id": "49fed6ef",
   "metadata": {},
   "outputs": [],
   "source": [
    "class LazySimilarityMatrix:\n",
    "    def __init__(self):\n",
    "        self.similarity_cache = {}\n",
    "        \n",
    "    def get_similarity(self, item1, item2):\n",
    "        \"\"\"Get similarity between two items with caching\"\"\"\n",
    "        if item1 == item2:\n",
    "            return 1.0\n",
    "        \n",
    "        # Use a consistent order for the key to avoid duplicates\n",
    "        cache_key = tuple(sorted([item1, item2]))\n",
    "        \n",
    "        if cache_key not in self.similarity_cache:\n",
    "            sim = pearson_correlation(item1, item2)\n",
    "            self.similarity_cache[cache_key] = sim\n",
    "            \n",
    "        return self.similarity_cache[cache_key]\n",
    "    \n",
    "    def get_top_k_similar_items(self, item_id, k=20, exclude_negative=True):\n",
    "        \"\"\"Find k items most similar to the given item\"\"\"\n",
    "        item_ids = ratings_base[\"user_id\"].unique()\n",
    "        similarities = []\n",
    "        \n",
    "        for other_item_id in item_ids:\n",
    "            if other_item_id != item_id:\n",
    "                sim = self.get_similarity(item_id, other_item_id)\n",
    "                # Option to exclude users with negative correlation\n",
    "                if not exclude_negative or sim > 0:\n",
    "                    similarities.append((other_item_id, sim))\n",
    "        \n",
    "        # Sort by similarity (descending) and take top k\n",
    "        similarities.sort(key=lambda x: x[1], reverse=True)\n",
    "        return similarities[:k]"
   ]
  },
  {
   "cell_type": "code",
   "execution_count": 10,
   "id": "f5272082",
   "metadata": {},
   "outputs": [],
   "source": [
    "similarity_matrix = LazySimilarityMatrix()"
   ]
  },
  {
   "cell_type": "markdown",
   "id": "41098f9c",
   "metadata": {},
   "source": [
    "- **Hàm gợi ý:**\n",
    "\n",
    "  $$\n",
    "  \\text{pred}(u, p) = \\frac{\\sum_{i \\in \\text{ratedItem}(u)} \\text{sim}(i, p) * r_{u,i}}{\\sum_{i \\in \\text{ratedItem}(u)} \\text{sim}(i, p)}\n",
    "  $$"
   ]
  },
  {
   "cell_type": "code",
   "execution_count": null,
   "id": "de59c78c",
   "metadata": {},
   "outputs": [],
   "source": [
    "def predict_rating(user_id, item_id, k=20, rating_range=(1, 5)):\n",
    "    # Check if the user has already rated this item\n",
    "    is_rated = ratings_base[(ratings_base['user_id'] == user_id) & (ratings_base['item_id'] == item_id)]\n",
    "    if not is_rated.empty:\n",
    "        return is_rated['rating'].iloc[0]\n",
    "    \n",
    "    items_rated_by_user = ratings_base[ratings_base['user_id'] == user_id]\n",
    "    \n",
    "    similar_items = similarity_matrix.get_top_k_similar_items(item_id, k)\n",
    "    \n",
    "    numerator = 0\n",
    "    denominator = 0\n",
    "    \n",
    "    for similar_item_id, sim in similar_items:\n",
    "        # Check if the user has rated the similar item\n",
    "        user_rating = items_rated_by_user[items_rated_by_user['item_id'] == similar_item_id]\n",
    "        \n",
    "        if not user_rating.empty:\n",
    "            rating = user_rating['rating'].iloc[0]\n",
    "            numerator += sim * rating\n",
    "            denominator += abs(sim)\n",
    "    \n",
    "    if denominator == 0:\n",
    "        # Nếu không có đủ thông tin, trả về điểm trung bình của user\n",
    "        if user_id in user_mean_ratings:\n",
    "            return user_mean_ratings[user_id]\n",
    "        else:\n",
    "            # Nếu user chưa đánh giá item nào, trả về giá trị trung bình tổng thể\n",
    "            return ratings_base['rating'].mean()\n",
    "    \n",
    "    predicted_rating = numerator / denominator\n",
    "    \n",
    "    # Đảm bảo rating nằm trong khoảng hợp lệ\n",
    "    predicted_rating = max(rating_range[0], min(predicted_rating, rating_range[1]))\n",
    "    \n",
    "    return predicted_rating"
   ]
  },
  {
   "cell_type": "code",
   "execution_count": 25,
   "id": "b2cfa0ff",
   "metadata": {},
   "outputs": [],
   "source": [
    "from tqdm import tqdm\n",
    "def evaluate_model(k=20, metric='rmse'):\n",
    "    \"\"\"\n",
    "    Evaluate the recommender model on the test set\n",
    "    \n",
    "    Parameters:\n",
    "    k: Number of similar users to consider\n",
    "    metric: Evaluation metric ('rmse' or 'mae')\n",
    "    \n",
    "    Returns:\n",
    "    float: Error metric value (lower is better)\n",
    "    \"\"\"\n",
    "    errors = []\n",
    "    total = len(ratings_test)\n",
    "    print(f\"Evaluating model with k={k} on {total} test samples...\")\n",
    "    \n",
    "    # Optional: show progress for long evaluations\n",
    "    progress_step = max(1, total // 10)\n",
    "    \n",
    "    with tqdm(total=total, desc=\"Evaluating\", ncols=100, bar_format=\"{l_bar}{bar}| {n_fmt}/{total_fmt} [{elapsed}<{remaining}, {rate_fmt}{postfix}]\") as pbar:\n",
    "        for _, row in ratings_test.iterrows():\n",
    "            user_id, item_id, actual_rating = row['user_id'], row['item_id'], row['rating']\n",
    "            predicted_rating = predict_rating(user_id, item_id, k)\n",
    "\n",
    "            if metric == 'rmse':\n",
    "                errors.append((predicted_rating - actual_rating) ** 2)\n",
    "            else:  # mae\n",
    "                errors.append(abs(predicted_rating - actual_rating))\n",
    "            \n",
    "            pbar.update(1)\n",
    "            \n",
    "    if metric == 'rmse':\n",
    "        return np.sqrt(np.mean(errors))\n",
    "    else:  # mae\n",
    "        return np.mean(errors)"
   ]
  },
  {
   "cell_type": "code",
   "execution_count": 26,
   "id": "d1a0df53",
   "metadata": {},
   "outputs": [
    {
     "name": "stdout",
     "output_type": "stream",
     "text": [
      "Evaluating model with k=20 on 9430 test samples...\n"
     ]
    },
    {
     "name": "stderr",
     "output_type": "stream",
     "text": [
      "Evaluating: 100%|███████████████████████████████████████████████| 9430/9430 [19:35<00:00,  8.02it/s]"
     ]
    },
    {
     "name": "stdout",
     "output_type": "stream",
     "text": [
      "RMSE with k=20: 1.1000\n"
     ]
    },
    {
     "name": "stderr",
     "output_type": "stream",
     "text": [
      "\n"
     ]
    }
   ],
   "source": [
    "error = evaluate_model(k=20, metric='rmse')\n",
    "print(f\"RMSE with k=20: {error:.4f}\")"
   ]
  },
  {
   "cell_type": "code",
   "execution_count": 31,
   "id": "a4330ab3",
   "metadata": {},
   "outputs": [],
   "source": [
    "def find_optimal_k(k_values=None):\n",
    "    \"\"\"Find the optimal k value for the KNN algorithm\"\"\"\n",
    "    if k_values is None:\n",
    "        k_values = [5, 10, 20, 30, 40, 50]\n",
    "    \n",
    "    results = []\n",
    "    \n",
    "    for k in k_values:\n",
    "        # Use a small sample for efficiency\n",
    "        sample_size = len(ratings_test)\n",
    "        sample = ratings_test.sample(sample_size)\n",
    "        \n",
    "        errors = []\n",
    "        for _, row in sample.iterrows():\n",
    "            user_id, item_id, actual_rating = row['user_id'], row['item_id'], row['rating']\n",
    "            predicted_rating = predict_rating(user_id, item_id, k)\n",
    "            errors.append((predicted_rating - actual_rating) ** 2)\n",
    "        \n",
    "        rmse = np.sqrt(np.mean(errors))\n",
    "        results.append((k, rmse))\n",
    "        print(f\"k={k}, RMSE={rmse:.4f}\")\n",
    "    \n",
    "    import matplotlib.pyplot as plt\n",
    "    \n",
    "    plt.figure(figsize=(10, 6))\n",
    "    \n",
    "    k_list = [result[0] for result in results]\n",
    "    rmse_list = [result[1] for result in results]\n",
    "    \n",
    "    plt.plot(k_list, rmse_list, marker='o')\n",
    "    plt.xlabel('k (Number of neighbors)')\n",
    "    plt.ylabel('RMSE')\n",
    "    plt.title('RMSE vs. k')\n",
    "    plt.grid(True)\n",
    "    plt.savefig('Item-KNN_optimization.png')\n",
    "    plt.show()\n",
    "    \n",
    "    # Find k with lowest error\n",
    "    optimal_k = min(results, key=lambda x: x[1])\n",
    "    return optimal_k"
   ]
  },
  {
   "cell_type": "code",
   "execution_count": 33,
   "id": "b5baff29",
   "metadata": {},
   "outputs": [
    {
     "name": "stdout",
     "output_type": "stream",
     "text": [
      "k=5, RMSE=1.1431\n",
      "k=10, RMSE=1.1219\n",
      "k=15, RMSE=1.1102\n",
      "k=20, RMSE=1.1000\n",
      "k=25, RMSE=1.0881\n",
      "k=30, RMSE=1.0816\n",
      "k=35, RMSE=1.0738\n",
      "k=40, RMSE=1.0709\n",
      "k=45, RMSE=1.0687\n",
      "k=50, RMSE=1.0610\n",
      "k=55, RMSE=1.0549\n",
      "k=60, RMSE=1.0506\n",
      "k=65, RMSE=1.0472\n",
      "k=70, RMSE=1.0447\n",
      "k=75, RMSE=1.0431\n",
      "k=80, RMSE=1.0413\n",
      "k=85, RMSE=1.0394\n",
      "k=90, RMSE=1.0376\n",
      "k=95, RMSE=1.0367\n",
      "k=100, RMSE=1.0333\n",
      "k=105, RMSE=1.0316\n",
      "k=110, RMSE=1.0301\n",
      "k=115, RMSE=1.0292\n",
      "k=120, RMSE=1.0279\n",
      "k=125, RMSE=1.0272\n",
      "k=130, RMSE=1.0266\n",
      "k=135, RMSE=1.0257\n",
      "k=140, RMSE=1.0248\n",
      "k=145, RMSE=1.0242\n",
      "k=150, RMSE=1.0218\n",
      "k=155, RMSE=1.0206\n",
      "k=160, RMSE=1.0214\n",
      "k=165, RMSE=1.0210\n",
      "k=170, RMSE=1.0205\n",
      "k=175, RMSE=1.0197\n",
      "k=180, RMSE=1.0182\n",
      "k=185, RMSE=1.0185\n",
      "k=190, RMSE=1.0180\n",
      "k=105, RMSE=1.0316\n",
      "k=200, RMSE=1.0174\n"
     ]
    },
    {
     "data": {
      "image/png": "[encoded data removed]",
      "text/plain": [
       "<Figure size 1000x600 with 1 Axes>"
      ]
     },
     "metadata": {},
     "output_type": "display_data"
    },
    {
     "name": "stdout",
     "output_type": "stream",
     "text": [
      "Optimal k: 200 with RMSE: 1.0174\n"
     ]
    }
   ],
   "source": [
    "optimal_k, optimal_rmse = find_optimal_k(k_values=[5, 10, 15, 20, 25, 30, 35, 40, 45, 50, 55, 60, 65, 70, 75, 80, 85, 90, 95, 100, 105, 110, 115, 120, 125, 130, 135, 140, 145, 150,\n",
    "                                                   155, 160, 165, 170, 175, 180, 185, 190, 105, 200])\n",
    "print(f\"Optimal k: {optimal_k} with RMSE: {optimal_rmse:.4f}\")"
   ]
  },
  {
   "cell_type": "code",
   "execution_count": null,
   "id": "d17e4a80",
   "metadata": {},
   "outputs": [],
   "source": []
  }
 ],
 "metadata": {
  "kernelspec": {
   "display_name": "ML",
   "language": "python",
   "name": "python3"
  },
  "language_info": {
   "codemirror_mode": {
    "name": "ipython",
    "version": 3
   },
   "file_extension": ".py",
   "mimetype": "text/x-python",
   "name": "python",
   "nbconvert_exporter": "python",
   "pygments_lexer": "ipython3",
   "version": "3.13.2"
  }
 },
 "nbformat": 4,
 "nbformat_minor": 5
}
