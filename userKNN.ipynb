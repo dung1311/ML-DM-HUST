{
 "cells": [
  {
   "cell_type": "code",
   "execution_count": 1,
   "metadata": {},
   "outputs": [],
   "source": [
    "import pandas as pd\n",
    "import numpy as np\n",
    "from collections import defaultdict"
   ]
  },
  {
   "cell_type": "code",
   "execution_count": 2,
   "metadata": {},
   "outputs": [
    {
     "name": "stdout",
     "output_type": "stream",
     "text": [
      "Number of users: 943\n",
      "Number of ratings in base set: 90570\n",
      "Number of ratings in test set: 9430\n",
      "Number of items: 1682\n"
     ]
    }
   ],
   "source": [
    "u_cols = [\"user_id\", \"age\", \"sex\", \"occupation\", \"zip_code\"]\n",
    "users = pd.read_csv(\"./data/ml-100k/u.user\", sep=\"|\", header=None, names=u_cols, encoding=\"latin-1\")\n",
    "print(\"Number of users:\", users.shape[0])\n",
    "\n",
    "#rates\n",
    "r_cols = [\"user_id\", \"item_id\", \"rating\", \"unix_timestamp\"]\n",
    "ratings_base = pd.read_csv(\"./data/ml-100k/ua.base\", sep=\"\\t\", header=None, names=r_cols, encoding=\"latin-1\")\n",
    "ratings_test = pd.read_csv(\"./data/ml-100k/ua.test\", sep=\"\\t\", header=None, names=r_cols, encoding=\"latin-1\")\n",
    "print(\"Number of ratings in base set:\", ratings_base.shape[0])\n",
    "print(\"Number of ratings in test set:\", ratings_test.shape[0])\n",
    "\n",
    "#items\n",
    "i_cols = ['movie id', 'movie title' ,'release date','video release date', 'IMDb URL', 'unknown', 'Action', 'Adventure',\n",
    "'Animation', 'Children\\'s', 'Comedy', 'Crime', 'Documentary', 'Drama', 'Fantasy',\n",
    "'Film-Noir', 'Horror', 'Musical', 'Mystery', 'Romance', 'Sci-Fi', 'Thriller', 'War', 'Western']\n",
    "\n",
    "items = pd.read_csv('./data/ml-100k/u.item', sep='|', names=i_cols, encoding='latin-1')\n",
    "print(\"Number of items:\", items.shape[0])"
   ]
  },
  {
   "cell_type": "code",
   "execution_count": 3,
   "metadata": {},
   "outputs": [],
   "source": [
    "user_mean_ratings = ratings_base.groupby('user_id')['rating'].mean()"
   ]
  },
  {
   "cell_type": "markdown",
   "metadata": {},
   "source": [
    "- **Độ đo tương đồng phổ biến cho user-based CF: Pearson correlation**\n",
    "  \n",
    "  - $a, b$: users\n",
    "  - $r_{a,p}$: rating của user $a$ cho item $p$\n",
    "  - $P$: tập hợp các item được rate bởi cả $a$ và $b$\n",
    "  \n",
    "- Possible similarity values between -1 and 1\n",
    "\n",
    "  $$\n",
    "  \\text{sim}(a, b) = \\frac{\\sum_{p \\in P} (r_{a,p} - \\bar{r}_a)(r_{b,p} - \\bar{r}_b)}{\\sqrt{\\sum_{p \\in P} (r_{a,p} - \\bar{r}_a)^2} \\sqrt{\\sum_{p \\in P} (r_{b,p} - \\bar{r}_b)^2}}\n",
    "  $$"
   ]
  },
  {
   "cell_type": "code",
   "execution_count": 4,
   "metadata": {},
   "outputs": [],
   "source": [
    "def pearson_correlation(user1, user2):\n",
    "    \"\"\"\n",
    "    Calculate Pearson correlation between ratings of two users\n",
    "    \n",
    "    Parameters:\n",
    "    user1, user2: user IDs to compare\n",
    "    \n",
    "    Returns:\n",
    "    float: Pearson correlation coefficient between the two users\n",
    "    \"\"\"\n",
    "    # Get items rated by each user\n",
    "    items_user1 = ratings_base[ratings_base[\"user_id\"] == user1][[\"item_id\", \"rating\"]]\n",
    "    items_user2 = ratings_base[ratings_base[\"user_id\"] == user2][[\"item_id\", \"rating\"]]\n",
    "    \n",
    "    # Find common items\n",
    "    common_items = pd.merge(items_user1, items_user2, on=\"item_id\", suffixes=('_user1', '_user2'))\n",
    "\n",
    "    # If less than 3 common items, return 0 (not enough data for reliable correlation)\n",
    "    if len(common_items) < 3:\n",
    "        return 0\n",
    "    \n",
    "    # Get mean ratings for each user\n",
    "    mean_rating_user1 = items_user1[\"rating\"].mean()\n",
    "    mean_rating_user2 = items_user2[\"rating\"].mean()\n",
    "    \n",
    "    # Calculate numerator and denominators for Pearson formula\n",
    "    numerator = sum((common_items[\"rating_user1\"] - mean_rating_user1) * \n",
    "                    (common_items[\"rating_user2\"] - mean_rating_user2))\n",
    "    \n",
    "    denominator_user1 = sum((common_items[\"rating_user1\"] - mean_rating_user1)**2)**0.5\n",
    "    denominator_user2 = sum((common_items[\"rating_user2\"] - mean_rating_user2)**2)**0.5\n",
    "    \n",
    "    # Check for division by zero\n",
    "    if denominator_user1 == 0 or denominator_user2 == 0:\n",
    "        return 0\n",
    "    \n",
    "    # Calculate and return correlation\n",
    "    correlation = numerator / (denominator_user1 * denominator_user2)\n",
    "    \n",
    "    # Apply significance weighting (optional but recommended)\n",
    "    # This gives more weight to correlations based on more common items\n",
    "    if len(common_items) < 50:\n",
    "        correlation = correlation * (len(common_items) / 50)\n",
    "    \n",
    "    return correlation"
   ]
  },
  {
   "cell_type": "markdown",
   "metadata": {},
   "source": [
    "## Chỉ tính toán độ tương đồng khi được gọi đến"
   ]
  },
  {
   "cell_type": "code",
   "execution_count": 5,
   "metadata": {},
   "outputs": [],
   "source": [
    "class LazySimilarityMatrix:\n",
    "    def __init__(self):\n",
    "        self.similarity_cache = {}\n",
    "        \n",
    "    def get_similarity(self, user1, user2):\n",
    "        \"\"\"Get similarity between two users with caching\"\"\"\n",
    "        if user1 == user2:\n",
    "            return 1.0\n",
    "        \n",
    "        # Use a consistent order for the key to avoid duplicates\n",
    "        cache_key = tuple(sorted([user1, user2]))\n",
    "        \n",
    "        if cache_key not in self.similarity_cache:\n",
    "            sim = pearson_correlation(user1, user2)\n",
    "            self.similarity_cache[cache_key] = sim\n",
    "            \n",
    "        return self.similarity_cache[cache_key]\n",
    "    \n",
    "    def get_top_k_similar_users(self, user_id, k=20, exclude_negative=True):\n",
    "        \"\"\"Find k users most similar to the given user\"\"\"\n",
    "        user_ids = ratings_base[\"user_id\"].unique()\n",
    "        similarities = []\n",
    "        \n",
    "        for other_user_id in user_ids:\n",
    "            if other_user_id != user_id:\n",
    "                sim = self.get_similarity(user_id, other_user_id)\n",
    "                # Option to exclude users with negative correlation\n",
    "                if not exclude_negative or sim > 0:\n",
    "                    similarities.append((other_user_id, sim))\n",
    "        \n",
    "        # Sort by similarity (descending) and take top k\n",
    "        similarities.sort(key=lambda x: x[1], reverse=True)\n",
    "        return similarities[:k]"
   ]
  },
  {
   "cell_type": "code",
   "execution_count": 6,
   "metadata": {},
   "outputs": [],
   "source": [
    "similarity_matrix = LazySimilarityMatrix()"
   ]
  },
  {
   "cell_type": "code",
   "execution_count": 176,
   "metadata": {},
   "outputs": [],
   "source": [
    "user_mean_ratings = ratings_base.groupby('user_id')['rating'].mean()"
   ]
  },
  {
   "cell_type": "markdown",
   "metadata": {},
   "source": [
    "- **Hàm dự đoán:**\n",
    "  \n",
    "  $$\n",
    "  \\text{pred}(a, p) = \\bar{r}_a + \\frac{\\sum_{b \\in N} \\text{sim}(a, b) * (r_{b,p} - \\bar{r}_b)}{\\sum_{b \\in N} \\text{sim}(a, b)}\n",
    "  $$\n",
    "\n",
    "- Tính toán độ lệch điểm mỗi láng giềng trên item $p$ so với điểm trung bình của họ.\n",
    "- Kết hợp độ lệch điểm trung bình của các láng giềng với trọng số tương đồng của user $a$.\n",
    "- Cộng với mức độ bias của user $a$."
   ]
  },
  {
   "cell_type": "code",
   "execution_count": null,
   "metadata": {},
   "outputs": [],
   "source": [
    "def predict_rating(user_id, item_id, k=20, rating_range=(1, 5)):\n",
    "    \"\"\"\n",
    "    Predict rating for a given user-item pair using user-based collaborative filtering\n",
    "    \n",
    "    Parameters:\n",
    "    user_id: ID of the user\n",
    "    item_id: ID of the item\n",
    "    k: Number of similar users to consider\n",
    "    rating_range: Valid range for ratings (min, max)\n",
    "    \n",
    "    Returns:\n",
    "    float: Predicted rating\n",
    "    \"\"\"\n",
    "    # Check if the user has already rated this item\n",
    "    is_rated = ratings_base[(ratings_base['user_id'] == user_id) & (ratings_base['item_id'] == item_id)]\n",
    "    if not is_rated.empty:\n",
    "        return is_rated['rating'].iloc[0]\n",
    "    \n",
    "    # Get k most similar users\n",
    "    similar_users = similarity_matrix.get_top_k_similar_users(user_id, k)\n",
    "    \n",
    "    # Get mean rating for the current user\n",
    "    if user_id in user_mean_ratings:\n",
    "        mean_rating_user = user_mean_ratings[user_id]\n",
    "    else:\n",
    "        mean_rating_user = ratings_base['rating'].mean()  # Global mean as fallback\n",
    "    \n",
    "    # Get all ratings for this item from users in our similar users list\n",
    "    similar_user_ids = [uid for uid, _ in similar_users]\n",
    "    item_ratings = ratings_base[\n",
    "        (ratings_base['item_id'] == item_id) & \n",
    "        (ratings_base['user_id'].isin(similar_user_ids))\n",
    "    ]\n",
    "    \n",
    "    # Convert to dictionary for faster lookup\n",
    "    similar_user_ratings = {row['user_id']: row['rating'] for _, row in item_ratings.iterrows()}\n",
    "    \n",
    "    numerator = 0\n",
    "    denominator = 0\n",
    "    \n",
    "    for similar_user_id, similarity_score in similar_users:\n",
    "        if similar_user_id in similar_user_ratings:\n",
    "            # Get the rating this similar user gave to the item\n",
    "            similar_user_rating = similar_user_ratings[similar_user_id]\n",
    "            \n",
    "            # Get the mean rating for this similar user\n",
    "            similar_user_mean = user_mean_ratings.get(similar_user_id, \n",
    "                                               ratings_base['rating'].mean())\n",
    "            \n",
    "            # Use normalized rating in the calculation\n",
    "            numerator += similarity_score * (similar_user_rating - similar_user_mean)\n",
    "            denominator += abs(similarity_score)\n",
    "    \n",
    "    # If no similar users rated this item, return user's mean rating\n",
    "    if denominator == 0:\n",
    "        return mean_rating_user\n",
    "    \n",
    "    # Calculate predicted rating using weighted average of normalized ratings\n",
    "    predicted_rating = mean_rating_user + (numerator / denominator)\n",
    "    \n",
    "    min_rating, max_rating = rating_range\n",
    "    return max(min_rating, min(max_rating, predicted_rating))"
   ]
  },
  {
   "cell_type": "markdown",
   "metadata": {},
   "source": [
    "## Evaluate model trên tập test, bản evaluate trên tập val và tập test ở file userKNN.py"
   ]
  },
  {
   "cell_type": "code",
   "execution_count": 14,
   "metadata": {},
   "outputs": [],
   "source": [
    "from tqdm import tqdm\n",
    "def evaluate_model(k=20, metric='rmse'):\n",
    "    \"\"\"\n",
    "    Evaluate the recommender model on the test set\n",
    "    \n",
    "    Parameters:\n",
    "    k: Number of similar users to consider\n",
    "    metric: Evaluation metric ('rmse' or 'mae')\n",
    "    \n",
    "    Returns:\n",
    "    float: Error metric value (lower is better)\n",
    "    \"\"\"\n",
    "    errors = []\n",
    "    total = len(ratings_test)\n",
    "    print(f\"Evaluating model with k={k} on {total} test samples...\")\n",
    "    \n",
    "    # Optional: show progress for long evaluations\n",
    "    progress_step = max(1, total // 10)\n",
    "    \n",
    "    with tqdm(total=total, desc=\"Evaluating\", ncols=100, bar_format=\"{l_bar}{bar}| {n_fmt}/{total_fmt} [{elapsed}<{remaining}, {rate_fmt}{postfix}]\") as pbar:\n",
    "        for _, row in ratings_test.iterrows():\n",
    "            user_id, item_id, actual_rating = row['user_id'], row['item_id'], row['rating']\n",
    "            predicted_rating = predict_rating(user_id, item_id, k)\n",
    "\n",
    "            if metric == 'rmse':\n",
    "                errors.append((predicted_rating - actual_rating) ** 2)\n",
    "            else:  # mae\n",
    "                errors.append(abs(predicted_rating - actual_rating))\n",
    "            \n",
    "            pbar.update(1)\n",
    "            \n",
    "    if metric == 'rmse':\n",
    "        return np.sqrt(np.mean(errors))\n",
    "    else:  # mae\n",
    "        return np.mean(errors)"
   ]
  },
  {
   "cell_type": "markdown",
   "metadata": {},
   "source": [
    "## Hàm validation để tìm ra siêu tham số K. Hàm chuẩn xác hơn sử dụng kĩ thuật k-folds cross-validation ở file userKNN.py"
   ]
  },
  {
   "cell_type": "code",
   "execution_count": 25,
   "metadata": {},
   "outputs": [],
   "source": [
    "def find_optimal_k(k_values=None):\n",
    "    \"\"\"Find the optimal k value for the KNN algorithm\"\"\"\n",
    "    if k_values is None:\n",
    "        k_values = [5, 10, 20, 30, 40, 50]\n",
    "    \n",
    "    results = []\n",
    "    \n",
    "    for k in k_values:\n",
    "        # Use a small sample for efficiency\n",
    "        sample_size = len(ratings_test)\n",
    "        sample = ratings_test.sample(sample_size)\n",
    "        \n",
    "        errors = []\n",
    "        for _, row in sample.iterrows():\n",
    "            user_id, item_id, actual_rating = row['user_id'], row['item_id'], row['rating']\n",
    "            predicted_rating = predict_rating(user_id, item_id, k)\n",
    "            errors.append((predicted_rating - actual_rating) ** 2)\n",
    "        \n",
    "        rmse = np.sqrt(np.mean(errors))\n",
    "        results.append((k, rmse))\n",
    "        print(f\"k={k}, RMSE={rmse:.4f}\")\n",
    "    \n",
    "    import matplotlib.pyplot as plt\n",
    "    \n",
    "    plt.figure(figsize=(10, 6))\n",
    "    \n",
    "    k_list = [result[0] for result in results]\n",
    "    rmse_list = [result[1] for result in results]\n",
    "    \n",
    "    plt.plot(k_list, rmse_list, marker='o')\n",
    "    plt.xlabel('k (Number of neighbors)')\n",
    "    plt.ylabel('RMSE')\n",
    "    plt.title('RMSE vs. k')\n",
    "    plt.grid(True)\n",
    "    plt.savefig('User-KNN_optimization.png')\n",
    "    plt.show()\n",
    "    \n",
    "    \n",
    "    # Find k with lowest error\n",
    "    optimal_k = min(results, key=lambda x: x[1])\n",
    "    return optimal_k"
   ]
  },
  {
   "cell_type": "code",
   "execution_count": 10,
   "metadata": {},
   "outputs": [],
   "source": [
    "def recommend_items(user_id, n=10, exclude_rated=True):\n",
    "    \"\"\"\n",
    "    Recommend top N items for a given user\n",
    "    \n",
    "    Parameters:\n",
    "    user_id: ID of the user\n",
    "    n: Number of recommendations to make\n",
    "    exclude_rated: Whether to exclude items the user has already rated\n",
    "    \n",
    "    Returns:\n",
    "    list: Tuples of (item_id, predicted_rating)\n",
    "    \"\"\"\n",
    "    # Get all items\n",
    "    all_items = items['movie id'].unique()\n",
    "    \n",
    "    # Get items already rated by the user if we want to exclude them\n",
    "    if exclude_rated:\n",
    "        rated_items = ratings_base[ratings_base['user_id'] == user_id]['item_id'].unique()\n",
    "        candidate_items = [item for item in all_items if item not in rated_items]\n",
    "    else:\n",
    "        candidate_items = all_items\n",
    "    \n",
    "    # Predict ratings for candidate items\n",
    "    predictions = []\n",
    "    for item_id in candidate_items:\n",
    "        pred_rating = predict_rating(user_id, item_id)\n",
    "        predictions.append((item_id, pred_rating))\n",
    "    \n",
    "    # Sort by predicted rating (descending) and take top n\n",
    "    predictions.sort(key=lambda x: x[1], reverse=True)\n",
    "    return predictions[:n]"
   ]
  },
  {
   "cell_type": "code",
   "execution_count": 11,
   "metadata": {},
   "outputs": [
    {
     "name": "stdout",
     "output_type": "stream",
     "text": [
      "Predicted rating for user 2, item 281: 3.08\n"
     ]
    }
   ],
   "source": [
    "pred = predict_rating(2, 281)\n",
    "print(f\"Predicted rating for user 2, item 281: {pred:.2f}\")"
   ]
  },
  {
   "cell_type": "code",
   "execution_count": 15,
   "metadata": {},
   "outputs": [
    {
     "name": "stdout",
     "output_type": "stream",
     "text": [
      "Evaluating model with k=20 on 9430 test samples...\n"
     ]
    },
    {
     "name": "stderr",
     "output_type": "stream",
     "text": [
      "Evaluating: 100%|███████████████████████████████████████████████| 9430/9430 [12:49<00:00, 12.25it/s]"
     ]
    },
    {
     "name": "stdout",
     "output_type": "stream",
     "text": [
      "RMSE with k=20: 1.0072\n"
     ]
    },
    {
     "name": "stderr",
     "output_type": "stream",
     "text": [
      "\n"
     ]
    }
   ],
   "source": [
    "error = evaluate_model(k=20, metric='rmse')\n",
    "print(f\"RMSE with k=20: {error:.4f}\")"
   ]
  },
  {
   "cell_type": "code",
   "execution_count": 27,
   "metadata": {},
   "outputs": [
    {
     "name": "stdout",
     "output_type": "stream",
     "text": [
      "k=5, RMSE=1.0771\n",
      "k=10, RMSE=1.0397\n",
      "k=15, RMSE=1.0172\n",
      "k=20, RMSE=1.0072\n",
      "k=25, RMSE=0.9970\n",
      "k=30, RMSE=0.9906\n",
      "k=35, RMSE=0.9862\n",
      "k=40, RMSE=0.9819\n",
      "k=45, RMSE=0.9796\n",
      "k=50, RMSE=0.9770\n",
      "k=55, RMSE=0.9751\n",
      "k=60, RMSE=0.9719\n",
      "k=65, RMSE=0.9714\n",
      "k=70, RMSE=0.9708\n",
      "k=75, RMSE=0.9682\n",
      "k=80, RMSE=0.9666\n",
      "k=85, RMSE=0.9655\n",
      "k=90, RMSE=0.9641\n",
      "k=95, RMSE=0.9633\n",
      "k=100, RMSE=0.9629\n",
      "k=105, RMSE=0.9625\n",
      "k=110, RMSE=0.9627\n",
      "k=115, RMSE=0.9625\n",
      "k=120, RMSE=0.9622\n",
      "k=125, RMSE=0.9625\n",
      "k=130, RMSE=0.9619\n",
      "k=135, RMSE=0.9623\n",
      "k=140, RMSE=0.9618\n",
      "k=145, RMSE=0.9616\n",
      "k=150, RMSE=0.9615\n",
      "k=155, RMSE=0.9615\n",
      "k=160, RMSE=0.9611\n",
      "k=165, RMSE=0.9609\n",
      "k=170, RMSE=0.9610\n",
      "k=175, RMSE=0.9607\n",
      "k=180, RMSE=0.9607\n",
      "k=185, RMSE=0.9609\n",
      "k=190, RMSE=0.9609\n",
      "k=105, RMSE=0.9625\n",
      "k=200, RMSE=0.9615\n"
     ]
    },
    {
     "data": {
      "image/png": "[encoded data removed]",
      "text/plain": [
       "<Figure size 1000x600 with 1 Axes>"
      ]
     },
     "metadata": {},
     "output_type": "display_data"
    },
    {
     "name": "stdout",
     "output_type": "stream",
     "text": [
      "Optimal k: 175 with RMSE: 0.9607\n"
     ]
    }
   ],
   "source": [
    "optimal_k, optimal_rmse = find_optimal_k(k_values=[5, 10, 15, 20, 25, 30, 35, 40, 45, 50, 55, 60, 65, 70, 75, 80, 85, 90, 95, 100, 105, 110, 115, 120, 125, 130, 135, 140, 145, 150,\n",
    "                                                   155, 160, 165, 170, 175, 180, 185, 190, 105, 200])\n",
    "print(f\"Optimal k: {optimal_k} with RMSE: {optimal_rmse:.4f}\")"
   ]
  }
 ],
 "metadata": {
  "kernelspec": {
   "display_name": "ML",
   "language": "python",
   "name": "python3"
  },
  "language_info": {
   "codemirror_mode": {
    "name": "ipython",
    "version": 3
   },
   "file_extension": ".py",
   "mimetype": "text/x-python",
   "name": "python",
   "nbconvert_exporter": "python",
   "pygments_lexer": "ipython3",
   "version": "3.13.2"
  }
 },
 "nbformat": 4,
 "nbformat_minor": 2
}
